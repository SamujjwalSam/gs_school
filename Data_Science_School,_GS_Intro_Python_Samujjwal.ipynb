{
  "nbformat": 4,
  "nbformat_minor": 0,
  "metadata": {
    "colab": {
      "name": "Data Science School, GS - Intro Python - Samujjwal.ipynb",
      "provenance": [],
      "collapsed_sections": [],
      "toc_visible": true
    },
    "kernelspec": {
      "name": "python3",
      "display_name": "Python 3"
    }
  },
  "cells": [
    {
      "cell_type": "markdown",
      "metadata": {
        "id": "q4GgQtw-N7uQ"
      },
      "source": [
        "Introduction to Python 3 - Data Science School, GS\n",
        "==========\n",
        "\n",
        "### *Samujjwal Ghosh*\n",
        "\n",
        "This notebook covers few basics of Python 3 which differs significantly from other general purpose languages to get people started with Python. Hense, it is most suitable for people who are begineer in Python but has some basic experience in any other general purpose languages like C, C++, Java, etc.\n",
        "\n",
        "## Topics covered:\n",
        "1.   Datatypes & type()\n",
        "2.   Data Structures and their indexing\n",
        "5.   Loops\n",
        "    *   List Comprehension\n",
        "7.   Functions \n",
        "    *   Defining your own functions\n",
        "8.   Classes in Python\n",
        "    *   \\_\\_init__\n",
        "    *   self\n",
        "8.   Working with packages\n",
        "9.   Homeworks\n",
        "10.  Pandas (Reading and Plotting)\n",
        "    *   File Reading\n",
        "    *   Slicing\n",
        "    *   Plotting"
      ]
    },
    {
      "cell_type": "markdown",
      "metadata": {
        "id": "2ADcGsRyu62K"
      },
      "source": [
        "### Datatypes\n",
        "**Dynamic typing:** No need to specify type beforehand.\n",
        "\n",
        "Basic datatypes: \n",
        "*   bool\n",
        "*   int\n",
        "*   float\n",
        "*   str\n",
        "\n",
        "Check type of the data using **type()**.\n",
        "\n",
        "*Note:* Everything in Python is internally object."
      ]
    },
    {
      "cell_type": "code",
      "metadata": {
        "id": "imB_p3NMvUwA",
        "colab": {
          "base_uri": "https://localhost:8080/"
        },
        "outputId": "a4551720-1acc-42e6-ad13-ea9f378ded60"
      },
      "source": [
        "a = 1.0 # float\n",
        "b = 'Hello' # str\n",
        "print(a,type(a))\n",
        "print(type(19))\n",
        "print(b,type(b))"
      ],
      "execution_count": null,
      "outputs": [
        {
          "output_type": "stream",
          "text": [
            "1.0 <class 'float'>\n",
            "<class 'int'>\n",
            "Hello <class 'str'>\n"
          ],
          "name": "stdout"
        }
      ]
    },
    {
      "cell_type": "markdown",
      "metadata": {
        "id": "VWTpkHt2I7Pd"
      },
      "source": [
        "### Data Structures\n",
        "\n",
        "Basic Structure types: \n",
        "*   **list**: [1, 'a', 0.5, 1]\n",
        "*   **tuple**: (1, 'a', 0.5, 1) # immutable\n",
        "*   **set**: {1, 'a', 0.5} Unique values only.\n",
        "*   **dict**:  {Key : Value} => ('a' : [1, 2, 3] , 'b' : 2), Keys are only from immutable type."
      ]
    },
    {
      "cell_type": "code",
      "metadata": {
        "id": "Xj8F0aR4ePce",
        "colab": {
          "base_uri": "https://localhost:8080/"
        },
        "outputId": "458103da-21cc-4c31-ebf1-92dd40fab059"
      },
      "source": [
        "# List\n",
        "a = [] # Initialization 1\n",
        "b = list() # Initialization 2\n",
        "print(type(a),a,type(b),b)\n",
        "a.append(2) # Adding items to list, alternatives: insert()\n",
        "print(a)\n",
        "a.append('d') # List can hold multiple datatypes even other data structures.\n",
        "print(a)\n",
        "a.append([3,4])\n",
        "print(a)\n",
        "\n",
        "print(a[0]) # Accessing the first element\n",
        "\n"
      ],
      "execution_count": null,
      "outputs": [
        {
          "output_type": "stream",
          "text": [
            "<class 'list'> [] <class 'list'> []\n",
            "[2]\n",
            "[2, 'd']\n",
            "[2, 'd', [3, 4]]\n",
            "2\n"
          ],
          "name": "stdout"
        }
      ]
    },
    {
      "cell_type": "markdown",
      "metadata": {
        "id": "ht_0hGCAQhox"
      },
      "source": [
        "### Indexing\n",
        "Accessing specific element or a range of values using their position"
      ]
    },
    {
      "cell_type": "code",
      "metadata": {
        "colab": {
          "base_uri": "https://localhost:8080/"
        },
        "id": "fURCMbU6Qn-4",
        "outputId": "b6feaa36-c8a7-409e-b284-a4f99b8c84dd"
      },
      "source": [
        "## Fetch the second element of the inner list\n",
        "a[2][1]"
      ],
      "execution_count": null,
      "outputs": [
        {
          "output_type": "execute_result",
          "data": {
            "text/plain": [
              "4"
            ]
          },
          "metadata": {
            "tags": []
          },
          "execution_count": 17
        }
      ]
    },
    {
      "cell_type": "code",
      "metadata": {
        "colab": {
          "base_uri": "https://localhost:8080/"
        },
        "id": "fTe1cswXR-_V",
        "outputId": "71df5575-ebca-4b5f-c6bf-a45abb52c67d"
      },
      "source": [
        "## Fetch last element\n",
        "a[-1]"
      ],
      "execution_count": null,
      "outputs": [
        {
          "output_type": "execute_result",
          "data": {
            "text/plain": [
              "[3, 4]"
            ]
          },
          "metadata": {
            "tags": []
          },
          "execution_count": 18
        }
      ]
    },
    {
      "cell_type": "code",
      "metadata": {
        "colab": {
          "base_uri": "https://localhost:8080/"
        },
        "id": "DWGBuJ5yRglz",
        "outputId": "31c65bdc-f759-44b0-9d28-39c456ec2100"
      },
      "source": [
        "## Fetch all except first\n",
        "a[1:]"
      ],
      "execution_count": null,
      "outputs": [
        {
          "output_type": "execute_result",
          "data": {
            "text/plain": [
              "['d', [3, 4]]"
            ]
          },
          "metadata": {
            "tags": []
          },
          "execution_count": 19
        }
      ]
    },
    {
      "cell_type": "code",
      "metadata": {
        "colab": {
          "base_uri": "https://localhost:8080/"
        },
        "id": "4IrOdKiFRt8P",
        "outputId": "d8c31abc-0d88-473c-c72e-3ab4ed70b7df"
      },
      "source": [
        "a[1:3]"
      ],
      "execution_count": null,
      "outputs": [
        {
          "output_type": "execute_result",
          "data": {
            "text/plain": [
              "['d', [3, 4]]"
            ]
          },
          "metadata": {
            "tags": []
          },
          "execution_count": 20
        }
      ]
    },
    {
      "cell_type": "markdown",
      "metadata": {
        "id": "9_0rDlGGR1ku"
      },
      "source": [
        "Q1 . Fetch all elements except the last"
      ]
    },
    {
      "cell_type": "code",
      "metadata": {
        "id": "CTERk0mQR2RG"
      },
      "source": [
        "## Q1. Fetch all elements except the last\n"
      ],
      "execution_count": null,
      "outputs": []
    },
    {
      "cell_type": "code",
      "metadata": {
        "id": "Plcxw846Un9W"
      },
      "source": [
        "a_list = [2, 6, 4, 8, 1232, 5456, 2223, 554]"
      ],
      "execution_count": null,
      "outputs": []
    },
    {
      "cell_type": "markdown",
      "metadata": {
        "id": "jAsvHv66y8lN"
      },
      "source": [
        "### Loops\n",
        "*   \"while\" very closely resembles with other languages.\n",
        "*   \"for\" closely resembels \"foreach\" from other languages.\n",
        "\n",
        "\n",
        "***Enumerating*** a loop using ***for***:"
      ]
    },
    {
      "cell_type": "code",
      "metadata": {
        "colab": {
          "base_uri": "https://localhost:8080/"
        },
        "id": "CEyNtKeCUjM7",
        "outputId": "790ad78a-6d62-42b2-dab6-611a1e1fcab4"
      },
      "source": [
        "## Finds the max and min value in a list\n",
        "import math\n",
        "max_item = -math.inf\n",
        "min_item = math.inf\n",
        "for item in a_list:\n",
        "    if item > max_item:\n",
        "        max_item = item\n",
        "    if item < min_item:\n",
        "        min_item = item\n",
        "print(max_item, min_item)"
      ],
      "execution_count": null,
      "outputs": [
        {
          "output_type": "stream",
          "text": [
            "5456 2\n"
          ],
          "name": "stdout"
        }
      ]
    },
    {
      "cell_type": "code",
      "metadata": {
        "colab": {
          "base_uri": "https://localhost:8080/"
        },
        "id": "AmOcqTSvUEpY",
        "outputId": "a9fe97a1-4e1e-4012-c64c-8ecc708b07bd"
      },
      "source": [
        "print(max(a_list), min(a_list))"
      ],
      "execution_count": null,
      "outputs": [
        {
          "output_type": "stream",
          "text": [
            "5456 2\n"
          ],
          "name": "stdout"
        }
      ]
    },
    {
      "cell_type": "markdown",
      "metadata": {
        "id": "iBOl27-cV5XI"
      },
      "source": [
        "**Quiz:**\n",
        "\n",
        "You want to store the last 12 months' earnings of an organization. \n",
        "- Which data type will you use?\n",
        "- Extract the last month's sales\n",
        "- What was the sales of the 5th last month (counting backwards)?\n",
        "- What was the maximum of these 12 months sales"
      ]
    },
    {
      "cell_type": "code",
      "metadata": {
        "id": "1Ha0ZLd0UiiD"
      },
      "source": [
        "# Earnings: 100000, 212874, 197867, 126734, 213243, 221133, 123242, 172132, 155115, 182123, 200000, 212323\n",
        "## Your code here"
      ],
      "execution_count": null,
      "outputs": []
    },
    {
      "cell_type": "code",
      "metadata": {
        "id": "BZM_cpg5ehnw",
        "colab": {
          "base_uri": "https://localhost:8080/"
        },
        "outputId": "fdfa1f9e-2729-4307-deb0-3ffc99db5231"
      },
      "source": [
        "# Tuple\n",
        "a = () # Initialization 1\n",
        "b = tuple() # Initialization 2\n",
        "print(type(a),a,type(b),b)\n",
        "# There's no way to add any element to tuple after initialization => immutable."
      ],
      "execution_count": null,
      "outputs": [
        {
          "output_type": "stream",
          "text": [
            "<class 'tuple'> () <class 'tuple'> ()\n"
          ],
          "name": "stdout"
        }
      ]
    },
    {
      "cell_type": "code",
      "metadata": {
        "id": "JV0rL8kQe2fU",
        "colab": {
          "base_uri": "https://localhost:8080/"
        },
        "outputId": "c7d297ec-e3e3-4ce9-a4ad-98b9734f5f56"
      },
      "source": [
        "# Set\n",
        "b = {1,'a'} # Initialization 1. Special case\n",
        "a = {} # Initialization 0. Special case \n",
        "c = set() # Initialization 2\n",
        "print(type(a),a,type(b),b,type(c),c)\n",
        "b.add(2) # Adding new item to set\n",
        "print(b)\n",
        "b.update([2,3]) # Updating the set. Duplicates are not updated.\n",
        "print(b)\n",
        "## Check what happens if you try to add duplicate"
      ],
      "execution_count": null,
      "outputs": [
        {
          "output_type": "stream",
          "text": [
            "<class 'dict'> {} <class 'set'> {'a', 1} <class 'set'> set()\n",
            "{'a', 1, 2}\n",
            "{'a', 1, 2, 3}\n"
          ],
          "name": "stdout"
        }
      ]
    },
    {
      "cell_type": "code",
      "metadata": {
        "id": "tN8F7GfEf-9u",
        "colab": {
          "base_uri": "https://localhost:8080/"
        },
        "outputId": "41241541-03a3-4faa-c262-9aacf89382fb"
      },
      "source": [
        "# Dict\n",
        "a = {} # Initialization 1\n",
        "b = {1:'a'} # Initialization 2\n",
        "c = dict() # Initialization 3\n",
        "print(type(a),a,type(b),b,type(c),c)\n",
        "b[2] = 'a' # Value can be repeated\n",
        "print(b)\n",
        "b['j'] = ['b','c'] # Same dict with str type key\n",
        "print(b)\n",
        "\n",
        "## Check what happens if same key is repeated with different value"
      ],
      "execution_count": null,
      "outputs": [
        {
          "output_type": "stream",
          "text": [
            "<class 'dict'> {} <class 'dict'> {1: 'a'} <class 'dict'> {}\n",
            "{1: 'a', 2: 'a'}\n",
            "{1: 'a', 2: 'a', 'j': ['b', 'c']}\n"
          ],
          "name": "stdout"
        }
      ]
    },
    {
      "cell_type": "markdown",
      "metadata": {
        "id": "BHJT-Loy2Lkl"
      },
      "source": [
        "**Q2. Create a list of tuples:**"
      ]
    },
    {
      "cell_type": "code",
      "metadata": {
        "id": "gzt9u_KD2Dtt"
      },
      "source": [
        "## Q2. Create a list of tuples:\n"
      ],
      "execution_count": null,
      "outputs": []
    },
    {
      "cell_type": "markdown",
      "metadata": {
        "id": "TXJke2YXWxPi"
      },
      "source": [
        "***Enumerating*** a loop in ***reverse order*** using ***for***:"
      ]
    },
    {
      "cell_type": "code",
      "metadata": {
        "id": "KSMa80e0zu2O",
        "colab": {
          "base_uri": "https://localhost:8080/"
        },
        "outputId": "c1a6cf66-06fa-4b65-ada7-eba774ff9981"
      },
      "source": [
        "loop_list = [1,2,3,4,5]\n",
        "for index, item in enumerate(reversed(loop_list)): # Items are accessed in reverse order but index runs incrementally.\n",
        "    print(index, item)"
      ],
      "execution_count": null,
      "outputs": [
        {
          "output_type": "stream",
          "text": [
            "0 5\n",
            "1 4\n",
            "2 3\n",
            "3 2\n",
            "4 1\n"
          ],
          "name": "stdout"
        }
      ]
    },
    {
      "cell_type": "code",
      "metadata": {
        "colab": {
          "base_uri": "https://localhost:8080/"
        },
        "id": "V97uSqd1X6qn",
        "outputId": "d94d917d-0c1c-4a82-dd11-74a420931407"
      },
      "source": [
        "Tv = {'BreakingBad':100, 'GameOfThrones':1292, 'TMKUC' : 88}\n",
        "  \n",
        "Keymax = max(Tv, key=Tv.get)\n",
        "print(Keymax)"
      ],
      "execution_count": null,
      "outputs": [
        {
          "output_type": "stream",
          "text": [
            "GameOfThrones\n"
          ],
          "name": "stdout"
        }
      ]
    },
    {
      "cell_type": "markdown",
      "metadata": {
        "id": "muDmmBLiXJpn"
      },
      "source": [
        "**Quiz:**\n",
        "\n",
        "Add month information (Jan/Feb/...) to the earnings\n",
        "- Extract December's sales\n",
        "- What was the sales amount of last July?\n",
        "- Which month recorded the max sales, and what was the sales volume?"
      ]
    },
    {
      "cell_type": "code",
      "metadata": {
        "id": "XCIfrwsoXbMQ"
      },
      "source": [
        "## Your code here"
      ],
      "execution_count": null,
      "outputs": []
    },
    {
      "cell_type": "markdown",
      "metadata": {
        "id": "OErLxf5BYe1E"
      },
      "source": [
        "**Quiz:**\n",
        "\n",
        "In the first and second quarter (Apr-June), what was the max, min and average sales? Use both list and dictionaries to develop two different solutions."
      ]
    },
    {
      "cell_type": "code",
      "metadata": {
        "id": "3HsJOg85YqhB"
      },
      "source": [
        "## Your code here"
      ],
      "execution_count": null,
      "outputs": []
    },
    {
      "cell_type": "markdown",
      "metadata": {
        "id": "QJB5g3A7m_Q6"
      },
      "source": [
        "#### List Comprehension\n",
        "*   Readable code\n",
        "*   Works with multiple loops\n",
        "\n"
      ]
    },
    {
      "cell_type": "code",
      "metadata": {
        "id": "-NnSgZZt02Mm",
        "colab": {
          "base_uri": "https://localhost:8080/"
        },
        "outputId": "96a47201-2e11-43ac-9878-589c5f4bab6f"
      },
      "source": [
        "# Loop 1\n",
        "new_list1 = []\n",
        "for i in loop_list:\n",
        "    if i >= 3:\n",
        "        new_list1.append(i)\n",
        "        \n",
        "# Loop 2 == Loop 1\n",
        "new_list2 = [i for i in loop_list if i >= 3] # alternate: new_list3 = list(i for i in loop_list if i >= 2)\n",
        "\n",
        "# Check if both lists are same or not\n",
        "print(new_list1, new_list2)"
      ],
      "execution_count": null,
      "outputs": [
        {
          "output_type": "stream",
          "text": [
            "[3, 4, 5] [3, 4, 5]\n"
          ],
          "name": "stdout"
        }
      ]
    },
    {
      "cell_type": "code",
      "metadata": {
        "id": "qqpaHHuLYL-y",
        "colab": {
          "base_uri": "https://localhost:8080/"
        },
        "outputId": "99f1da24-89da-42af-cc49-839c40181ab3"
      },
      "source": [
        "# Loop with 2 variables\n",
        "new_tuple_list1 = [(i,j) for i in new_list1 for j in new_list2 if i >= 3]\n",
        "print(new_tuple_list1)"
      ],
      "execution_count": null,
      "outputs": [
        {
          "output_type": "stream",
          "text": [
            "[(3, 3), (3, 4), (3, 5), (4, 3), (4, 4), (4, 5), (5, 3), (5, 4), (5, 5)]\n"
          ],
          "name": "stdout"
        }
      ]
    },
    {
      "cell_type": "markdown",
      "metadata": {
        "id": "asgWEOv42jtb"
      },
      "source": [
        "**Q3. Write nested list comprehension:**"
      ]
    },
    {
      "cell_type": "code",
      "metadata": {
        "id": "iqPNkT3624ba"
      },
      "source": [
        "## Q3. Write nested list comprehension:"
      ],
      "execution_count": null,
      "outputs": []
    },
    {
      "cell_type": "markdown",
      "metadata": {
        "id": "ttj-58KNN7uR"
      },
      "source": [
        "### Functions\n",
        "Always write functions with Doc String.\n",
        "Features like help(), default argument, etc.\n",
        "\n",
        "*Note:* help() function is possibly the most important Python function you can learn. If you can remember how to use help(), you hold the key to understanding most other function."
      ]
    },
    {
      "cell_type": "code",
      "metadata": {
        "id": "xu2TDmziqfpD",
        "colab": {
          "base_uri": "https://localhost:8080/"
        },
        "outputId": "d493e5b3-4857-488d-d9ac-a8ce45963e48"
      },
      "source": [
        "help(print)"
      ],
      "execution_count": null,
      "outputs": [
        {
          "output_type": "stream",
          "text": [
            "Help on built-in function print in module builtins:\n",
            "\n",
            "print(...)\n",
            "    print(value, ..., sep=' ', end='\\n', file=sys.stdout, flush=False)\n",
            "    \n",
            "    Prints the values to a stream, or to sys.stdout by default.\n",
            "    Optional keyword arguments:\n",
            "    file:  a file-like object (stream); defaults to the current sys.stdout.\n",
            "    sep:   string inserted between values, default a space.\n",
            "    end:   string appended after the last value, default a newline.\n",
            "    flush: whether to forcibly flush the stream.\n",
            "\n"
          ],
          "name": "stdout"
        }
      ]
    },
    {
      "cell_type": "markdown",
      "metadata": {
        "id": "ht_-JIIvznRI"
      },
      "source": [
        "#### Defining your own functions and using help().\n",
        "\n",
        "**Adding and using Doc String:**"
      ]
    },
    {
      "cell_type": "code",
      "metadata": {
        "id": "736PnpDzzyHI",
        "colab": {
          "base_uri": "https://localhost:8080/"
        },
        "outputId": "22eb8731-4e2a-48c1-d1d7-bdf907d38120"
      },
      "source": [
        "def try_help():\n",
        "    \"\"\" This is a doc string of a function which can be used as custom help. \"\"\"\n",
        "    value = \"This is the return value 'HELP'.\"\n",
        "    return value\n",
        "\n",
        "print(try_help) # Even a function is an object in Python.\n",
        "\n",
        "print(try_help())\n",
        "\n",
        "help(try_help)"
      ],
      "execution_count": null,
      "outputs": [
        {
          "output_type": "stream",
          "text": [
            "<function try_help at 0x7f0b2b878050>\n",
            "This is the return value 'HELP'.\n",
            "Help on function try_help in module __main__:\n",
            "\n",
            "try_help()\n",
            "    This is a doc string of a function which can be used as custom help.\n",
            "\n"
          ],
          "name": "stdout"
        }
      ]
    },
    {
      "cell_type": "code",
      "metadata": {
        "id": "gfV1snia2G-N",
        "colab": {
          "base_uri": "https://localhost:8080/"
        },
        "outputId": "f83127d0-23c7-4fdf-ac2a-d4cf15284972"
      },
      "source": [
        "def no_return():\n",
        "    \"\"\" This function does not return anything. \"\"\"\n",
        "    value = \"This is the return value 'HELP'.\"  \n",
        "    \n",
        "print(no_return())"
      ],
      "execution_count": null,
      "outputs": [
        {
          "output_type": "stream",
          "text": [
            "None\n"
          ],
          "name": "stdout"
        }
      ]
    },
    {
      "cell_type": "markdown",
      "metadata": {
        "id": "Tn4I2yow25wc"
      },
      "source": [
        "**Default Arguments:**"
      ]
    },
    {
      "cell_type": "code",
      "metadata": {
        "id": "koUJrMd53FEJ",
        "colab": {
          "base_uri": "https://localhost:8080/"
        },
        "outputId": "7090db39-b9d5-4fb9-97ff-caa4412baca8"
      },
      "source": [
        "def default_args(who=\"World\"):\n",
        "    print(\"Hello\", who)\n",
        "    \n",
        "default_args()\n",
        "\n",
        "default_args(\"Sam\")"
      ],
      "execution_count": null,
      "outputs": [
        {
          "output_type": "stream",
          "text": [
            "Hello World\n",
            "Hello Sam\n"
          ],
          "name": "stdout"
        }
      ]
    },
    {
      "cell_type": "markdown",
      "metadata": {
        "id": "l3rCr1yv2_Qz"
      },
      "source": [
        "**Q4. Write a function to swap two values**"
      ]
    },
    {
      "cell_type": "code",
      "metadata": {
        "id": "8N3UiwRs0uUK"
      },
      "source": [
        "## Q4. Write a function to swap two values\n",
        "def swap_values(a, b):\n",
        "    pass ## Your code here"
      ],
      "execution_count": null,
      "outputs": []
    },
    {
      "cell_type": "markdown",
      "metadata": {
        "id": "cs1O_BRABvak"
      },
      "source": [
        "### Classes in Python\n",
        "Everything in Python is basically an object, even modules, functions, variables, etc.\n",
        "\n",
        "*Note:* Supports inheritence but not multi-inheritence.\n",
        "\n",
        "*Note:* \"self\" here is equivalent to \"this\" in other languages."
      ]
    },
    {
      "cell_type": "code",
      "metadata": {
        "id": "MFZC5QtiB8Yw"
      },
      "source": [
        "class testClass(object):\n",
        "    \"\"\"This is a class Doc String.\"\"\"\n",
        "    \n",
        "    def __init__(self, print_this=\"print from init\"):\n",
        "        self.print_this = print_this\n",
        "        print(\"Class initialized by 'init' inside Python class named testClass.\", self.__doc__)\n",
        "        print(self.print_this)\n",
        "        \n",
        "    def arbit_func_name(self, args = 'print from arbit'):\n",
        "        \"\"\"Doc String of method 'arbit_func_name'.\"\"\"\n",
        "        print(self.print_this, args)"
      ],
      "execution_count": null,
      "outputs": []
    },
    {
      "cell_type": "code",
      "metadata": {
        "id": "G0EJaWpxYgx2",
        "colab": {
          "base_uri": "https://localhost:8080/"
        },
        "outputId": "61fc95ae-df4a-4cfc-f8ce-9adb76e6de63"
      },
      "source": [
        "tc_obj = testClass(\"Sam\") # Creating an object of the class.\n",
        "\n",
        "tc_obj.arbit_func_name() # Calling without any argument\n",
        "\n",
        "tc_obj.arbit_func_name(\"is it arbit?\") # Calling with argument\n",
        "\n",
        "print(tc_obj.__doc__) # Print the Doc String\n",
        "\n",
        "help(tc_obj.arbit_func_name) # Accessing Doc String of the method inside class\n",
        "\n",
        "help(testClass.arbit_func_name) # Prints the Doc String of the class\n",
        "\n",
        "help(testClass) # Prints the Doc String of the class\n",
        "\n",
        "help(tc_obj) # Prints the Doc String of the class"
      ],
      "execution_count": null,
      "outputs": [
        {
          "output_type": "stream",
          "text": [
            "Class initialized by 'init' inside Python class named testClass. This is a class Doc String.\n",
            "Sam\n",
            "Sam print from arbit\n",
            "Sam is it arbit?\n",
            "This is a class Doc String.\n",
            "Help on method arbit_func_name in module __main__:\n",
            "\n",
            "arbit_func_name(args='print from arbit') method of __main__.testClass instance\n",
            "    Doc String of method 'arbit_func_name'.\n",
            "\n",
            "Help on function arbit_func_name in module __main__:\n",
            "\n",
            "arbit_func_name(self, args='print from arbit')\n",
            "    Doc String of method 'arbit_func_name'.\n",
            "\n",
            "Help on class testClass in module __main__:\n",
            "\n",
            "class testClass(builtins.object)\n",
            " |  testClass(print_this='print from init')\n",
            " |  \n",
            " |  This is a class Doc String.\n",
            " |  \n",
            " |  Methods defined here:\n",
            " |  \n",
            " |  __init__(self, print_this='print from init')\n",
            " |      Initialize self.  See help(type(self)) for accurate signature.\n",
            " |  \n",
            " |  arbit_func_name(self, args='print from arbit')\n",
            " |      Doc String of method 'arbit_func_name'.\n",
            " |  \n",
            " |  ----------------------------------------------------------------------\n",
            " |  Data descriptors defined here:\n",
            " |  \n",
            " |  __dict__\n",
            " |      dictionary for instance variables (if defined)\n",
            " |  \n",
            " |  __weakref__\n",
            " |      list of weak references to the object (if defined)\n",
            "\n",
            "Help on testClass in module __main__ object:\n",
            "\n",
            "class testClass(builtins.object)\n",
            " |  testClass(print_this='print from init')\n",
            " |  \n",
            " |  This is a class Doc String.\n",
            " |  \n",
            " |  Methods defined here:\n",
            " |  \n",
            " |  __init__(self, print_this='print from init')\n",
            " |      Initialize self.  See help(type(self)) for accurate signature.\n",
            " |  \n",
            " |  arbit_func_name(self, args='print from arbit')\n",
            " |      Doc String of method 'arbit_func_name'.\n",
            " |  \n",
            " |  ----------------------------------------------------------------------\n",
            " |  Data descriptors defined here:\n",
            " |  \n",
            " |  __dict__\n",
            " |      dictionary for instance variables (if defined)\n",
            " |  \n",
            " |  __weakref__\n",
            " |      list of weak references to the object (if defined)\n",
            "\n"
          ],
          "name": "stdout"
        }
      ]
    },
    {
      "cell_type": "markdown",
      "metadata": {
        "id": "H_KBrVW-3ND7"
      },
      "source": [
        "Q5. Add another method to the class which changes the value of self.print_this:"
      ]
    },
    {
      "cell_type": "code",
      "metadata": {
        "id": "ZmSuKjwN3tjT"
      },
      "source": [
        "## Q5. Add another method to the class which changes the value of self.print_this:\n"
      ],
      "execution_count": null,
      "outputs": []
    },
    {
      "cell_type": "code",
      "metadata": {
        "id": "DICCcUtrAK0B"
      },
      "source": [
        ""
      ],
      "execution_count": null,
      "outputs": []
    },
    {
      "cell_type": "markdown",
      "metadata": {
        "id": "va5B2sIMGJsk"
      },
      "source": [
        "### Working with packages\n",
        "\n",
        "Some are built-in, some are not. Built-in packages need not be downloaded and installed. For others, download and installation is needed. ***pip*** is used for package management in Python.\n",
        "\n",
        "*Note:* Use ! for colab commands."
      ]
    },
    {
      "cell_type": "code",
      "metadata": {
        "id": "8dAQe0TSG0zV",
        "colab": {
          "base_uri": "https://localhost:8080/"
        },
        "outputId": "e8f9c30e-5034-476d-f6db-67ad3daaff82"
      },
      "source": [
        "!pip install numpy # Installs package"
      ],
      "execution_count": null,
      "outputs": [
        {
          "output_type": "stream",
          "text": [
            "Requirement already satisfied: numpy in /usr/local/lib/python3.7/dist-packages (1.19.5)\n"
          ],
          "name": "stdout"
        }
      ]
    },
    {
      "cell_type": "code",
      "metadata": {
        "id": "KPxeieVcTfGk",
        "colab": {
          "base_uri": "https://localhost:8080/"
        },
        "outputId": "8ef16725-f901-41bf-9785-f75503e9e55f"
      },
      "source": [
        "from pandas import DataFrame # Imports only a the mentioned component\n",
        "import numpy as np # Imports everything in the package\n",
        "\n",
        "np.zeros((2,5)) ## Why do you think two set of parenthesis is used? Remove one set to check what happens."
      ],
      "execution_count": null,
      "outputs": [
        {
          "output_type": "execute_result",
          "data": {
            "text/plain": [
              "array([[0., 0., 0., 0., 0.],\n",
              "       [0., 0., 0., 0., 0.]])"
            ]
          },
          "metadata": {
            "tags": []
          },
          "execution_count": 46
        }
      ]
    },
    {
      "cell_type": "markdown",
      "metadata": {
        "id": "90o-02NKEF4F"
      },
      "source": [
        "### Homeworks\n",
        "\n",
        "### 1. Write a function to return the second maximum value in a list.\n",
        "```\n",
        "input: [2, 5, 6, 2, 9, 4, 0, 3]\n",
        "result: 6\n",
        "```\n",
        "\n",
        "### 2. Write a function which creates a single list of tuples from two separate equal length lists.\n",
        "```\n",
        "a = [1,2,3]\n",
        "\n",
        "b = ['a','b','c']\n",
        "\n",
        "result = [(1,'a'),(2,'b'),(3,'c')]\n",
        "\n",
        "```\n",
        "### 3. Sort a dict based on it's values.\n",
        "\n",
        "```\n",
        "d = {'a':3, 'b':1, 'c':2}\n",
        "\n",
        "result = [('a',3),('c',2),('b',1)]\n",
        "```\n",
        "\n",
        "\n"
      ]
    },
    {
      "cell_type": "markdown",
      "metadata": {
        "id": "QNr8XWcm4txi"
      },
      "source": [
        "## Pandas (Reading and Plotting)\n",
        "\n",
        "For the next part we will need some data which is available here: [Student Performance Data](https://archive.ics.uci.edu/ml/datasets/Student+Performance)\n",
        "\n",
        "**Abstract:** This data approach student achievement in secondary education of two Portuguese schools. The data attributes include student grades, demographic, social and school related features) and it was collected by using school reports and questionnaires. Two datasets are provided regarding the performance in two distinct subjects: Mathematics (mat) and Portuguese language (por).\n",
        "\n",
        "\n",
        "1.   Download the [zip file](https://archive.ics.uci.edu/ml/machine-learning-databases/00320/student.zip) to your setup.\n",
        "2.   Extract the zip file\n",
        "3.   Upload the `student-mat.csv` file to your workspace"
      ]
    },
    {
      "cell_type": "code",
      "metadata": {
        "id": "WtvJKmzZHK7D"
      },
      "source": [
        "import pandas as pd\n",
        "import numpy as np"
      ],
      "execution_count": null,
      "outputs": []
    },
    {
      "cell_type": "code",
      "metadata": {
        "colab": {
          "base_uri": "https://localhost:8080/"
        },
        "id": "k2BpEiBHLhMH",
        "outputId": "1bfbed97-6a23-455d-c95c-37905621c837"
      },
      "source": [
        "## Downloads the zip file\n",
        "!wget https://archive.ics.uci.edu/ml/machine-learning-databases/00320/student.zip"
      ],
      "execution_count": null,
      "outputs": [
        {
          "output_type": "stream",
          "text": [
            "--2021-07-21 07:03:35--  https://archive.ics.uci.edu/ml/machine-learning-databases/00320/student.zip\n",
            "Resolving archive.ics.uci.edu (archive.ics.uci.edu)... 128.195.10.252\n",
            "Connecting to archive.ics.uci.edu (archive.ics.uci.edu)|128.195.10.252|:443... connected.\n",
            "HTTP request sent, awaiting response... 200 OK\n",
            "Length: 20478 (20K) [application/x-httpd-php]\n",
            "Saving to: ‘student.zip’\n",
            "\n",
            "\rstudent.zip           0%[                    ]       0  --.-KB/s               \rstudent.zip         100%[===================>]  20.00K  --.-KB/s    in 0.01s   \n",
            "\n",
            "2021-07-21 07:03:35 (1.92 MB/s) - ‘student.zip’ saved [20478/20478]\n",
            "\n"
          ],
          "name": "stdout"
        }
      ]
    },
    {
      "cell_type": "code",
      "metadata": {
        "colab": {
          "base_uri": "https://localhost:8080/"
        },
        "id": "SrTejLqHL04U",
        "outputId": "f40489e3-ff11-4c12-d42d-ebc0d2720a8a"
      },
      "source": [
        "## Uncompress the file content\n",
        "!unzip student.zip"
      ],
      "execution_count": null,
      "outputs": [
        {
          "output_type": "stream",
          "text": [
            "Archive:  student.zip\n",
            "  inflating: student-mat.csv         \n",
            "  inflating: student-por.csv         \n",
            "  inflating: student-merge.R         \n",
            "  inflating: student.txt             \n"
          ],
          "name": "stdout"
        }
      ]
    },
    {
      "cell_type": "markdown",
      "metadata": {
        "id": "BJutBtZZ_PMt"
      },
      "source": [
        "### File reading"
      ]
    },
    {
      "cell_type": "code",
      "metadata": {
        "id": "Kb46pRBlfe1n",
        "colab": {
          "base_uri": "https://localhost:8080/",
          "height": 162
        },
        "outputId": "fa039330-cdf8-40f1-f47c-47f2a130799b"
      },
      "source": [
        "stu_df = pd.read_csv(\"student-mat.csv\", sep=';')\n",
        "stu_df.head(3)"
      ],
      "execution_count": null,
      "outputs": [
        {
          "output_type": "execute_result",
          "data": {
            "text/html": [
              "<div>\n",
              "<style scoped>\n",
              "    .dataframe tbody tr th:only-of-type {\n",
              "        vertical-align: middle;\n",
              "    }\n",
              "\n",
              "    .dataframe tbody tr th {\n",
              "        vertical-align: top;\n",
              "    }\n",
              "\n",
              "    .dataframe thead th {\n",
              "        text-align: right;\n",
              "    }\n",
              "</style>\n",
              "<table border=\"1\" class=\"dataframe\">\n",
              "  <thead>\n",
              "    <tr style=\"text-align: right;\">\n",
              "      <th></th>\n",
              "      <th>school</th>\n",
              "      <th>sex</th>\n",
              "      <th>age</th>\n",
              "      <th>address</th>\n",
              "      <th>famsize</th>\n",
              "      <th>Pstatus</th>\n",
              "      <th>Medu</th>\n",
              "      <th>Fedu</th>\n",
              "      <th>Mjob</th>\n",
              "      <th>Fjob</th>\n",
              "      <th>reason</th>\n",
              "      <th>guardian</th>\n",
              "      <th>traveltime</th>\n",
              "      <th>studytime</th>\n",
              "      <th>failures</th>\n",
              "      <th>schoolsup</th>\n",
              "      <th>famsup</th>\n",
              "      <th>paid</th>\n",
              "      <th>activities</th>\n",
              "      <th>nursery</th>\n",
              "      <th>higher</th>\n",
              "      <th>internet</th>\n",
              "      <th>romantic</th>\n",
              "      <th>famrel</th>\n",
              "      <th>freetime</th>\n",
              "      <th>goout</th>\n",
              "      <th>Dalc</th>\n",
              "      <th>Walc</th>\n",
              "      <th>health</th>\n",
              "      <th>absences</th>\n",
              "      <th>G1</th>\n",
              "      <th>G2</th>\n",
              "      <th>G3</th>\n",
              "    </tr>\n",
              "  </thead>\n",
              "  <tbody>\n",
              "    <tr>\n",
              "      <th>0</th>\n",
              "      <td>GP</td>\n",
              "      <td>F</td>\n",
              "      <td>18</td>\n",
              "      <td>U</td>\n",
              "      <td>GT3</td>\n",
              "      <td>A</td>\n",
              "      <td>4</td>\n",
              "      <td>4</td>\n",
              "      <td>at_home</td>\n",
              "      <td>teacher</td>\n",
              "      <td>course</td>\n",
              "      <td>mother</td>\n",
              "      <td>2</td>\n",
              "      <td>2</td>\n",
              "      <td>0</td>\n",
              "      <td>yes</td>\n",
              "      <td>no</td>\n",
              "      <td>no</td>\n",
              "      <td>no</td>\n",
              "      <td>yes</td>\n",
              "      <td>yes</td>\n",
              "      <td>no</td>\n",
              "      <td>no</td>\n",
              "      <td>4</td>\n",
              "      <td>3</td>\n",
              "      <td>4</td>\n",
              "      <td>1</td>\n",
              "      <td>1</td>\n",
              "      <td>3</td>\n",
              "      <td>6</td>\n",
              "      <td>5</td>\n",
              "      <td>6</td>\n",
              "      <td>6</td>\n",
              "    </tr>\n",
              "    <tr>\n",
              "      <th>1</th>\n",
              "      <td>GP</td>\n",
              "      <td>F</td>\n",
              "      <td>17</td>\n",
              "      <td>U</td>\n",
              "      <td>GT3</td>\n",
              "      <td>T</td>\n",
              "      <td>1</td>\n",
              "      <td>1</td>\n",
              "      <td>at_home</td>\n",
              "      <td>other</td>\n",
              "      <td>course</td>\n",
              "      <td>father</td>\n",
              "      <td>1</td>\n",
              "      <td>2</td>\n",
              "      <td>0</td>\n",
              "      <td>no</td>\n",
              "      <td>yes</td>\n",
              "      <td>no</td>\n",
              "      <td>no</td>\n",
              "      <td>no</td>\n",
              "      <td>yes</td>\n",
              "      <td>yes</td>\n",
              "      <td>no</td>\n",
              "      <td>5</td>\n",
              "      <td>3</td>\n",
              "      <td>3</td>\n",
              "      <td>1</td>\n",
              "      <td>1</td>\n",
              "      <td>3</td>\n",
              "      <td>4</td>\n",
              "      <td>5</td>\n",
              "      <td>5</td>\n",
              "      <td>6</td>\n",
              "    </tr>\n",
              "    <tr>\n",
              "      <th>2</th>\n",
              "      <td>GP</td>\n",
              "      <td>F</td>\n",
              "      <td>15</td>\n",
              "      <td>U</td>\n",
              "      <td>LE3</td>\n",
              "      <td>T</td>\n",
              "      <td>1</td>\n",
              "      <td>1</td>\n",
              "      <td>at_home</td>\n",
              "      <td>other</td>\n",
              "      <td>other</td>\n",
              "      <td>mother</td>\n",
              "      <td>1</td>\n",
              "      <td>2</td>\n",
              "      <td>3</td>\n",
              "      <td>yes</td>\n",
              "      <td>no</td>\n",
              "      <td>yes</td>\n",
              "      <td>no</td>\n",
              "      <td>yes</td>\n",
              "      <td>yes</td>\n",
              "      <td>yes</td>\n",
              "      <td>no</td>\n",
              "      <td>4</td>\n",
              "      <td>3</td>\n",
              "      <td>2</td>\n",
              "      <td>2</td>\n",
              "      <td>3</td>\n",
              "      <td>3</td>\n",
              "      <td>10</td>\n",
              "      <td>7</td>\n",
              "      <td>8</td>\n",
              "      <td>10</td>\n",
              "    </tr>\n",
              "  </tbody>\n",
              "</table>\n",
              "</div>"
            ],
            "text/plain": [
              "  school sex  age address famsize Pstatus  ...  Walc  health absences G1 G2  G3\n",
              "0     GP   F   18       U     GT3       A  ...     1       3        6  5  6   6\n",
              "1     GP   F   17       U     GT3       T  ...     1       3        4  5  5   6\n",
              "2     GP   F   15       U     LE3       T  ...     3       3       10  7  8  10\n",
              "\n",
              "[3 rows x 33 columns]"
            ]
          },
          "metadata": {
            "tags": []
          },
          "execution_count": 4
        }
      ]
    },
    {
      "cell_type": "markdown",
      "metadata": {
        "id": "geMVm90l_JtB"
      },
      "source": [
        "### Slicing and Indexing"
      ]
    },
    {
      "cell_type": "code",
      "metadata": {
        "colab": {
          "base_uri": "https://localhost:8080/"
        },
        "id": "7AxQ_Tct35LP",
        "outputId": "869de3df-9226-40f5-93a3-88ce60cf2060"
      },
      "source": [
        "## Accessing a single column:\n",
        "stu_df['age']\n",
        "# type(stu_df['age'])"
      ],
      "execution_count": null,
      "outputs": [
        {
          "output_type": "execute_result",
          "data": {
            "text/plain": [
              "0      18\n",
              "1      17\n",
              "2      15\n",
              "3      15\n",
              "4      16\n",
              "       ..\n",
              "390    20\n",
              "391    17\n",
              "392    21\n",
              "393    18\n",
              "394    19\n",
              "Name: age, Length: 395, dtype: int64"
            ]
          },
          "metadata": {
            "tags": []
          },
          "execution_count": 21
        }
      ]
    },
    {
      "cell_type": "code",
      "metadata": {
        "colab": {
          "base_uri": "https://localhost:8080/"
        },
        "id": "kY45j9ik4K1k",
        "outputId": "436dd5dd-96ab-4ebf-e39b-7b25f7a01f98"
      },
      "source": [
        "stu_df.age"
      ],
      "execution_count": null,
      "outputs": [
        {
          "output_type": "execute_result",
          "data": {
            "text/plain": [
              "0      18\n",
              "1      17\n",
              "2      15\n",
              "3      15\n",
              "4      16\n",
              "       ..\n",
              "390    20\n",
              "391    17\n",
              "392    21\n",
              "393    18\n",
              "394    19\n",
              "Name: age, Length: 395, dtype: int64"
            ]
          },
          "metadata": {
            "tags": []
          },
          "execution_count": 6
        }
      ]
    },
    {
      "cell_type": "code",
      "metadata": {
        "colab": {
          "base_uri": "https://localhost:8080/",
          "height": 419
        },
        "id": "yvhYscL647JG",
        "outputId": "80338680-9ced-40e6-ad33-51c5cbcf856f"
      },
      "source": [
        "stu_df[['age', 'sex']]"
      ],
      "execution_count": null,
      "outputs": [
        {
          "output_type": "execute_result",
          "data": {
            "text/html": [
              "<div>\n",
              "<style scoped>\n",
              "    .dataframe tbody tr th:only-of-type {\n",
              "        vertical-align: middle;\n",
              "    }\n",
              "\n",
              "    .dataframe tbody tr th {\n",
              "        vertical-align: top;\n",
              "    }\n",
              "\n",
              "    .dataframe thead th {\n",
              "        text-align: right;\n",
              "    }\n",
              "</style>\n",
              "<table border=\"1\" class=\"dataframe\">\n",
              "  <thead>\n",
              "    <tr style=\"text-align: right;\">\n",
              "      <th></th>\n",
              "      <th>age</th>\n",
              "      <th>sex</th>\n",
              "    </tr>\n",
              "  </thead>\n",
              "  <tbody>\n",
              "    <tr>\n",
              "      <th>0</th>\n",
              "      <td>18</td>\n",
              "      <td>F</td>\n",
              "    </tr>\n",
              "    <tr>\n",
              "      <th>1</th>\n",
              "      <td>17</td>\n",
              "      <td>F</td>\n",
              "    </tr>\n",
              "    <tr>\n",
              "      <th>2</th>\n",
              "      <td>15</td>\n",
              "      <td>F</td>\n",
              "    </tr>\n",
              "    <tr>\n",
              "      <th>3</th>\n",
              "      <td>15</td>\n",
              "      <td>F</td>\n",
              "    </tr>\n",
              "    <tr>\n",
              "      <th>4</th>\n",
              "      <td>16</td>\n",
              "      <td>F</td>\n",
              "    </tr>\n",
              "    <tr>\n",
              "      <th>...</th>\n",
              "      <td>...</td>\n",
              "      <td>...</td>\n",
              "    </tr>\n",
              "    <tr>\n",
              "      <th>390</th>\n",
              "      <td>20</td>\n",
              "      <td>M</td>\n",
              "    </tr>\n",
              "    <tr>\n",
              "      <th>391</th>\n",
              "      <td>17</td>\n",
              "      <td>M</td>\n",
              "    </tr>\n",
              "    <tr>\n",
              "      <th>392</th>\n",
              "      <td>21</td>\n",
              "      <td>M</td>\n",
              "    </tr>\n",
              "    <tr>\n",
              "      <th>393</th>\n",
              "      <td>18</td>\n",
              "      <td>M</td>\n",
              "    </tr>\n",
              "    <tr>\n",
              "      <th>394</th>\n",
              "      <td>19</td>\n",
              "      <td>M</td>\n",
              "    </tr>\n",
              "  </tbody>\n",
              "</table>\n",
              "<p>395 rows × 2 columns</p>\n",
              "</div>"
            ],
            "text/plain": [
              "     age sex\n",
              "0     18   F\n",
              "1     17   F\n",
              "2     15   F\n",
              "3     15   F\n",
              "4     16   F\n",
              "..   ...  ..\n",
              "390   20   M\n",
              "391   17   M\n",
              "392   21   M\n",
              "393   18   M\n",
              "394   19   M\n",
              "\n",
              "[395 rows x 2 columns]"
            ]
          },
          "metadata": {
            "tags": []
          },
          "execution_count": 15
        }
      ]
    },
    {
      "cell_type": "code",
      "metadata": {
        "colab": {
          "base_uri": "https://localhost:8080/",
          "height": 419
        },
        "id": "a5YW42995jQi",
        "outputId": "704e3f61-23a4-445b-8305-2189e565e6e8"
      },
      "source": [
        "stu_df[['age']]\n",
        "# type(stu_df[['age']])"
      ],
      "execution_count": null,
      "outputs": [
        {
          "output_type": "execute_result",
          "data": {
            "text/html": [
              "<div>\n",
              "<style scoped>\n",
              "    .dataframe tbody tr th:only-of-type {\n",
              "        vertical-align: middle;\n",
              "    }\n",
              "\n",
              "    .dataframe tbody tr th {\n",
              "        vertical-align: top;\n",
              "    }\n",
              "\n",
              "    .dataframe thead th {\n",
              "        text-align: right;\n",
              "    }\n",
              "</style>\n",
              "<table border=\"1\" class=\"dataframe\">\n",
              "  <thead>\n",
              "    <tr style=\"text-align: right;\">\n",
              "      <th></th>\n",
              "      <th>age</th>\n",
              "    </tr>\n",
              "  </thead>\n",
              "  <tbody>\n",
              "    <tr>\n",
              "      <th>0</th>\n",
              "      <td>18</td>\n",
              "    </tr>\n",
              "    <tr>\n",
              "      <th>1</th>\n",
              "      <td>17</td>\n",
              "    </tr>\n",
              "    <tr>\n",
              "      <th>2</th>\n",
              "      <td>15</td>\n",
              "    </tr>\n",
              "    <tr>\n",
              "      <th>3</th>\n",
              "      <td>15</td>\n",
              "    </tr>\n",
              "    <tr>\n",
              "      <th>4</th>\n",
              "      <td>16</td>\n",
              "    </tr>\n",
              "    <tr>\n",
              "      <th>...</th>\n",
              "      <td>...</td>\n",
              "    </tr>\n",
              "    <tr>\n",
              "      <th>390</th>\n",
              "      <td>20</td>\n",
              "    </tr>\n",
              "    <tr>\n",
              "      <th>391</th>\n",
              "      <td>17</td>\n",
              "    </tr>\n",
              "    <tr>\n",
              "      <th>392</th>\n",
              "      <td>21</td>\n",
              "    </tr>\n",
              "    <tr>\n",
              "      <th>393</th>\n",
              "      <td>18</td>\n",
              "    </tr>\n",
              "    <tr>\n",
              "      <th>394</th>\n",
              "      <td>19</td>\n",
              "    </tr>\n",
              "  </tbody>\n",
              "</table>\n",
              "<p>395 rows × 1 columns</p>\n",
              "</div>"
            ],
            "text/plain": [
              "     age\n",
              "0     18\n",
              "1     17\n",
              "2     15\n",
              "3     15\n",
              "4     16\n",
              "..   ...\n",
              "390   20\n",
              "391   17\n",
              "392   21\n",
              "393   18\n",
              "394   19\n",
              "\n",
              "[395 rows x 1 columns]"
            ]
          },
          "metadata": {
            "tags": []
          },
          "execution_count": 20
        }
      ]
    },
    {
      "cell_type": "code",
      "metadata": {
        "colab": {
          "base_uri": "https://localhost:8080/"
        },
        "id": "MtmIl7vg4O1v",
        "outputId": "ca2ec66f-e51f-41d3-8117-bbf3fac20c78"
      },
      "source": [
        "stu_df.iloc[:, 2]"
      ],
      "execution_count": null,
      "outputs": [
        {
          "output_type": "execute_result",
          "data": {
            "text/plain": [
              "0      18\n",
              "1      17\n",
              "2      15\n",
              "3      15\n",
              "4      16\n",
              "       ..\n",
              "390    20\n",
              "391    17\n",
              "392    21\n",
              "393    18\n",
              "394    19\n",
              "Name: age, Length: 395, dtype: int64"
            ]
          },
          "metadata": {
            "tags": []
          },
          "execution_count": 10
        }
      ]
    },
    {
      "cell_type": "code",
      "metadata": {
        "colab": {
          "base_uri": "https://localhost:8080/"
        },
        "id": "G8RCvJyp4Z_s",
        "outputId": "199afe97-9423-4cfc-c6e2-997788350e11"
      },
      "source": [
        "print(stu_df[stu_df.columns[2]])\n",
        "## Why this works? What is happening exactly?\n",
        "# print(stu_df.columns)\n",
        "# print(stu_df.columns[2])"
      ],
      "execution_count": null,
      "outputs": [
        {
          "output_type": "stream",
          "text": [
            "0      18\n",
            "1      17\n",
            "2      15\n",
            "3      15\n",
            "4      16\n",
            "       ..\n",
            "390    20\n",
            "391    17\n",
            "392    21\n",
            "393    18\n",
            "394    19\n",
            "Name: age, Length: 395, dtype: int64\n"
          ],
          "name": "stdout"
        }
      ]
    },
    {
      "cell_type": "code",
      "metadata": {
        "colab": {
          "base_uri": "https://localhost:8080/"
        },
        "id": "v3j7sNYn6ax7",
        "outputId": "e11ed7bf-a250-4983-c140-34f9c8d4e13c"
      },
      "source": [
        "stu_df.loc[0]"
      ],
      "execution_count": null,
      "outputs": [
        {
          "output_type": "execute_result",
          "data": {
            "text/plain": [
              "school             GP\n",
              "sex                 F\n",
              "age                18\n",
              "address             U\n",
              "famsize           GT3\n",
              "Pstatus             A\n",
              "Medu                4\n",
              "Fedu                4\n",
              "Mjob          at_home\n",
              "Fjob          teacher\n",
              "reason         course\n",
              "guardian       mother\n",
              "traveltime          2\n",
              "studytime           2\n",
              "failures            0\n",
              "schoolsup         yes\n",
              "famsup             no\n",
              "paid               no\n",
              "activities         no\n",
              "nursery           yes\n",
              "higher            yes\n",
              "internet           no\n",
              "romantic           no\n",
              "famrel              4\n",
              "freetime            3\n",
              "goout               4\n",
              "Dalc                1\n",
              "Walc                1\n",
              "health              3\n",
              "absences            6\n",
              "G1                  5\n",
              "G2                  6\n",
              "G3                  6\n",
              "Name: 0, dtype: object"
            ]
          },
          "metadata": {
            "tags": []
          },
          "execution_count": 24
        }
      ]
    },
    {
      "cell_type": "code",
      "metadata": {
        "colab": {
          "base_uri": "https://localhost:8080/"
        },
        "id": "vnmSzV2b6x15",
        "outputId": "06be7fd1-2e91-4654-aa9b-3d8c94885ac5"
      },
      "source": [
        "stu_df.iloc[0]"
      ],
      "execution_count": null,
      "outputs": [
        {
          "output_type": "execute_result",
          "data": {
            "text/plain": [
              "school             GP\n",
              "sex                 F\n",
              "age                18\n",
              "address             U\n",
              "famsize           GT3\n",
              "Pstatus             A\n",
              "Medu                4\n",
              "Fedu                4\n",
              "Mjob          at_home\n",
              "Fjob          teacher\n",
              "reason         course\n",
              "guardian       mother\n",
              "traveltime          2\n",
              "studytime           2\n",
              "failures            0\n",
              "schoolsup         yes\n",
              "famsup             no\n",
              "paid               no\n",
              "activities         no\n",
              "nursery           yes\n",
              "higher            yes\n",
              "internet           no\n",
              "romantic           no\n",
              "famrel              4\n",
              "freetime            3\n",
              "goout               4\n",
              "Dalc                1\n",
              "Walc                1\n",
              "health              3\n",
              "absences            6\n",
              "G1                  5\n",
              "G2                  6\n",
              "G3                  6\n",
              "Name: 0, dtype: object"
            ]
          },
          "metadata": {
            "tags": []
          },
          "execution_count": 25
        }
      ]
    },
    {
      "cell_type": "code",
      "metadata": {
        "colab": {
          "base_uri": "https://localhost:8080/"
        },
        "id": "ZRrjeioE69tC",
        "outputId": "76eafd27-6795-4952-918d-5bdd7d9e5525"
      },
      "source": [
        "stu_df.age.value_counts()"
      ],
      "execution_count": null,
      "outputs": [
        {
          "output_type": "execute_result",
          "data": {
            "text/plain": [
              "16    104\n",
              "17     98\n",
              "18     82\n",
              "15     82\n",
              "19     24\n",
              "20      3\n",
              "22      1\n",
              "21      1\n",
              "Name: age, dtype: int64"
            ]
          },
          "metadata": {
            "tags": []
          },
          "execution_count": 26
        }
      ]
    },
    {
      "cell_type": "code",
      "metadata": {
        "colab": {
          "base_uri": "https://localhost:8080/"
        },
        "id": "jgDnjsgh7hyF",
        "outputId": "0dc8bbfb-3490-4c04-85db-f325a18b761f"
      },
      "source": [
        "stu_df.age.values\n",
        "## What data type is this?\n",
        "# print(type(stu_df.age.values))"
      ],
      "execution_count": null,
      "outputs": [
        {
          "output_type": "execute_result",
          "data": {
            "text/plain": [
              "array([18, 17, 15, 15, 16, 16, 16, 17, 15, 15, 15, 15, 15, 15, 15, 16, 16,\n",
              "       16, 17, 16, 15, 15, 16, 16, 15, 16, 15, 15, 16, 16, 15, 15, 15, 15,\n",
              "       16, 15, 15, 16, 15, 15, 16, 15, 15, 15, 16, 15, 16, 16, 15, 15, 16,\n",
              "       15, 15, 15, 15, 16, 15, 15, 15, 16, 16, 16, 16, 16, 15, 16, 15, 16,\n",
              "       15, 15, 16, 15, 15, 16, 16, 15, 15, 16, 17, 16, 15, 15, 15, 15, 15,\n",
              "       15, 16, 15, 16, 16, 16, 15, 16, 16, 15, 15, 16, 16, 16, 16, 16, 16,\n",
              "       15, 15, 15, 15, 15, 16, 15, 16, 15, 16, 16, 15, 15, 16, 15, 16, 17,\n",
              "       15, 15, 15, 16, 16, 16, 15, 15, 19, 18, 16, 15, 15, 17, 16, 15, 15,\n",
              "       17, 16, 16, 15, 15, 16, 15, 16, 17, 15, 15, 15, 16, 15, 18, 16, 15,\n",
              "       19, 17, 15, 17, 18, 16, 16, 17, 15, 16, 17, 17, 16, 16, 16, 16, 16,\n",
              "       16, 16, 17, 16, 16, 17, 16, 17, 16, 17, 16, 16, 17, 17, 16, 17, 16,\n",
              "       16, 17, 17, 16, 17, 17, 16, 16, 17, 17, 16, 17, 16, 16, 16, 17, 17,\n",
              "       16, 17, 16, 16, 16, 17, 19, 17, 16, 18, 17, 17, 17, 18, 17, 17, 17,\n",
              "       17, 16, 18, 16, 18, 17, 17, 18, 17, 17, 17, 17, 16, 16, 16, 17, 16,\n",
              "       17, 18, 17, 17, 16, 16, 18, 16, 17, 22, 18, 16, 18, 16, 18, 16, 17,\n",
              "       17, 17, 19, 18, 17, 18, 18, 18, 17, 18, 18, 17, 18, 18, 18, 19, 18,\n",
              "       18, 17, 17, 17, 18, 18, 18, 18, 17, 17, 18, 18, 17, 17, 18, 17, 18,\n",
              "       18, 18, 17, 18, 17, 18, 17, 19, 18, 18, 18, 18, 17, 17, 17, 19, 18,\n",
              "       20, 19, 19, 19, 19, 19, 19, 19, 19, 19, 18, 18, 17, 18, 17, 17, 17,\n",
              "       17, 17, 18, 17, 17, 17, 17, 18, 17, 18, 18, 18, 17, 19, 17, 18, 17,\n",
              "       19, 18, 18, 17, 18, 18, 18, 18, 17, 18, 19, 17, 18, 19, 17, 18, 17,\n",
              "       17, 18, 18, 18, 18, 18, 17, 17, 18, 18, 17, 18, 18, 19, 18, 17, 17,\n",
              "       18, 18, 20, 18, 18, 17, 18, 18, 17, 19, 18, 18, 18, 19, 18, 18, 20,\n",
              "       17, 21, 18, 19])"
            ]
          },
          "metadata": {
            "tags": []
          },
          "execution_count": 29
        }
      ]
    },
    {
      "cell_type": "code",
      "metadata": {
        "colab": {
          "base_uri": "https://localhost:8080/"
        },
        "id": "p5FFWNXk74Yt",
        "outputId": "bc0382be-42f3-4897-f64f-0a8263a7e426"
      },
      "source": [
        "stu_df.age.values.tolist()\n",
        "## What data type is this?\n",
        "# print(type(stu_df.age.values.tolist()))"
      ],
      "execution_count": null,
      "outputs": [
        {
          "output_type": "execute_result",
          "data": {
            "text/plain": [
              "[18,\n",
              " 17,\n",
              " 15,\n",
              " 15,\n",
              " 16,\n",
              " 16,\n",
              " 16,\n",
              " 17,\n",
              " 15,\n",
              " 15,\n",
              " 15,\n",
              " 15,\n",
              " 15,\n",
              " 15,\n",
              " 15,\n",
              " 16,\n",
              " 16,\n",
              " 16,\n",
              " 17,\n",
              " 16,\n",
              " 15,\n",
              " 15,\n",
              " 16,\n",
              " 16,\n",
              " 15,\n",
              " 16,\n",
              " 15,\n",
              " 15,\n",
              " 16,\n",
              " 16,\n",
              " 15,\n",
              " 15,\n",
              " 15,\n",
              " 15,\n",
              " 16,\n",
              " 15,\n",
              " 15,\n",
              " 16,\n",
              " 15,\n",
              " 15,\n",
              " 16,\n",
              " 15,\n",
              " 15,\n",
              " 15,\n",
              " 16,\n",
              " 15,\n",
              " 16,\n",
              " 16,\n",
              " 15,\n",
              " 15,\n",
              " 16,\n",
              " 15,\n",
              " 15,\n",
              " 15,\n",
              " 15,\n",
              " 16,\n",
              " 15,\n",
              " 15,\n",
              " 15,\n",
              " 16,\n",
              " 16,\n",
              " 16,\n",
              " 16,\n",
              " 16,\n",
              " 15,\n",
              " 16,\n",
              " 15,\n",
              " 16,\n",
              " 15,\n",
              " 15,\n",
              " 16,\n",
              " 15,\n",
              " 15,\n",
              " 16,\n",
              " 16,\n",
              " 15,\n",
              " 15,\n",
              " 16,\n",
              " 17,\n",
              " 16,\n",
              " 15,\n",
              " 15,\n",
              " 15,\n",
              " 15,\n",
              " 15,\n",
              " 15,\n",
              " 16,\n",
              " 15,\n",
              " 16,\n",
              " 16,\n",
              " 16,\n",
              " 15,\n",
              " 16,\n",
              " 16,\n",
              " 15,\n",
              " 15,\n",
              " 16,\n",
              " 16,\n",
              " 16,\n",
              " 16,\n",
              " 16,\n",
              " 16,\n",
              " 15,\n",
              " 15,\n",
              " 15,\n",
              " 15,\n",
              " 15,\n",
              " 16,\n",
              " 15,\n",
              " 16,\n",
              " 15,\n",
              " 16,\n",
              " 16,\n",
              " 15,\n",
              " 15,\n",
              " 16,\n",
              " 15,\n",
              " 16,\n",
              " 17,\n",
              " 15,\n",
              " 15,\n",
              " 15,\n",
              " 16,\n",
              " 16,\n",
              " 16,\n",
              " 15,\n",
              " 15,\n",
              " 19,\n",
              " 18,\n",
              " 16,\n",
              " 15,\n",
              " 15,\n",
              " 17,\n",
              " 16,\n",
              " 15,\n",
              " 15,\n",
              " 17,\n",
              " 16,\n",
              " 16,\n",
              " 15,\n",
              " 15,\n",
              " 16,\n",
              " 15,\n",
              " 16,\n",
              " 17,\n",
              " 15,\n",
              " 15,\n",
              " 15,\n",
              " 16,\n",
              " 15,\n",
              " 18,\n",
              " 16,\n",
              " 15,\n",
              " 19,\n",
              " 17,\n",
              " 15,\n",
              " 17,\n",
              " 18,\n",
              " 16,\n",
              " 16,\n",
              " 17,\n",
              " 15,\n",
              " 16,\n",
              " 17,\n",
              " 17,\n",
              " 16,\n",
              " 16,\n",
              " 16,\n",
              " 16,\n",
              " 16,\n",
              " 16,\n",
              " 16,\n",
              " 17,\n",
              " 16,\n",
              " 16,\n",
              " 17,\n",
              " 16,\n",
              " 17,\n",
              " 16,\n",
              " 17,\n",
              " 16,\n",
              " 16,\n",
              " 17,\n",
              " 17,\n",
              " 16,\n",
              " 17,\n",
              " 16,\n",
              " 16,\n",
              " 17,\n",
              " 17,\n",
              " 16,\n",
              " 17,\n",
              " 17,\n",
              " 16,\n",
              " 16,\n",
              " 17,\n",
              " 17,\n",
              " 16,\n",
              " 17,\n",
              " 16,\n",
              " 16,\n",
              " 16,\n",
              " 17,\n",
              " 17,\n",
              " 16,\n",
              " 17,\n",
              " 16,\n",
              " 16,\n",
              " 16,\n",
              " 17,\n",
              " 19,\n",
              " 17,\n",
              " 16,\n",
              " 18,\n",
              " 17,\n",
              " 17,\n",
              " 17,\n",
              " 18,\n",
              " 17,\n",
              " 17,\n",
              " 17,\n",
              " 17,\n",
              " 16,\n",
              " 18,\n",
              " 16,\n",
              " 18,\n",
              " 17,\n",
              " 17,\n",
              " 18,\n",
              " 17,\n",
              " 17,\n",
              " 17,\n",
              " 17,\n",
              " 16,\n",
              " 16,\n",
              " 16,\n",
              " 17,\n",
              " 16,\n",
              " 17,\n",
              " 18,\n",
              " 17,\n",
              " 17,\n",
              " 16,\n",
              " 16,\n",
              " 18,\n",
              " 16,\n",
              " 17,\n",
              " 22,\n",
              " 18,\n",
              " 16,\n",
              " 18,\n",
              " 16,\n",
              " 18,\n",
              " 16,\n",
              " 17,\n",
              " 17,\n",
              " 17,\n",
              " 19,\n",
              " 18,\n",
              " 17,\n",
              " 18,\n",
              " 18,\n",
              " 18,\n",
              " 17,\n",
              " 18,\n",
              " 18,\n",
              " 17,\n",
              " 18,\n",
              " 18,\n",
              " 18,\n",
              " 19,\n",
              " 18,\n",
              " 18,\n",
              " 17,\n",
              " 17,\n",
              " 17,\n",
              " 18,\n",
              " 18,\n",
              " 18,\n",
              " 18,\n",
              " 17,\n",
              " 17,\n",
              " 18,\n",
              " 18,\n",
              " 17,\n",
              " 17,\n",
              " 18,\n",
              " 17,\n",
              " 18,\n",
              " 18,\n",
              " 18,\n",
              " 17,\n",
              " 18,\n",
              " 17,\n",
              " 18,\n",
              " 17,\n",
              " 19,\n",
              " 18,\n",
              " 18,\n",
              " 18,\n",
              " 18,\n",
              " 17,\n",
              " 17,\n",
              " 17,\n",
              " 19,\n",
              " 18,\n",
              " 20,\n",
              " 19,\n",
              " 19,\n",
              " 19,\n",
              " 19,\n",
              " 19,\n",
              " 19,\n",
              " 19,\n",
              " 19,\n",
              " 19,\n",
              " 18,\n",
              " 18,\n",
              " 17,\n",
              " 18,\n",
              " 17,\n",
              " 17,\n",
              " 17,\n",
              " 17,\n",
              " 17,\n",
              " 18,\n",
              " 17,\n",
              " 17,\n",
              " 17,\n",
              " 17,\n",
              " 18,\n",
              " 17,\n",
              " 18,\n",
              " 18,\n",
              " 18,\n",
              " 17,\n",
              " 19,\n",
              " 17,\n",
              " 18,\n",
              " 17,\n",
              " 19,\n",
              " 18,\n",
              " 18,\n",
              " 17,\n",
              " 18,\n",
              " 18,\n",
              " 18,\n",
              " 18,\n",
              " 17,\n",
              " 18,\n",
              " 19,\n",
              " 17,\n",
              " 18,\n",
              " 19,\n",
              " 17,\n",
              " 18,\n",
              " 17,\n",
              " 17,\n",
              " 18,\n",
              " 18,\n",
              " 18,\n",
              " 18,\n",
              " 18,\n",
              " 17,\n",
              " 17,\n",
              " 18,\n",
              " 18,\n",
              " 17,\n",
              " 18,\n",
              " 18,\n",
              " 19,\n",
              " 18,\n",
              " 17,\n",
              " 17,\n",
              " 18,\n",
              " 18,\n",
              " 20,\n",
              " 18,\n",
              " 18,\n",
              " 17,\n",
              " 18,\n",
              " 18,\n",
              " 17,\n",
              " 19,\n",
              " 18,\n",
              " 18,\n",
              " 18,\n",
              " 19,\n",
              " 18,\n",
              " 18,\n",
              " 20,\n",
              " 17,\n",
              " 21,\n",
              " 18,\n",
              " 19]"
            ]
          },
          "metadata": {
            "tags": []
          },
          "execution_count": 31
        }
      ]
    },
    {
      "cell_type": "markdown",
      "metadata": {
        "id": "OafaSSg8Np1M"
      },
      "source": [
        "Calculate the average age"
      ]
    },
    {
      "cell_type": "code",
      "metadata": {
        "colab": {
          "base_uri": "https://localhost:8080/"
        },
        "id": "1V-XXr3DIjX7",
        "outputId": "24661ed2-25bf-497c-a443-b8f877567584"
      },
      "source": [
        "stu_df.age.mean()"
      ],
      "execution_count": null,
      "outputs": [
        {
          "output_type": "execute_result",
          "data": {
            "text/plain": [
              "16.696202531645568"
            ]
          },
          "metadata": {
            "tags": []
          },
          "execution_count": 51
        }
      ]
    },
    {
      "cell_type": "code",
      "metadata": {
        "colab": {
          "base_uri": "https://localhost:8080/"
        },
        "id": "AR_tewVSIjM3",
        "outputId": "c0cfe132-e188-4631-fe51-108b90e2086f"
      },
      "source": [
        "stu_df.dtypes"
      ],
      "execution_count": null,
      "outputs": [
        {
          "output_type": "execute_result",
          "data": {
            "text/plain": [
              "school        object\n",
              "sex           object\n",
              "age            int64\n",
              "address       object\n",
              "famsize       object\n",
              "Pstatus       object\n",
              "Medu           int64\n",
              "Fedu           int64\n",
              "Mjob          object\n",
              "Fjob          object\n",
              "reason        object\n",
              "guardian      object\n",
              "traveltime     int64\n",
              "studytime      int64\n",
              "failures       int64\n",
              "schoolsup     object\n",
              "famsup        object\n",
              "paid          object\n",
              "activities    object\n",
              "nursery       object\n",
              "higher        object\n",
              "internet      object\n",
              "romantic      object\n",
              "famrel         int64\n",
              "freetime       int64\n",
              "goout          int64\n",
              "Dalc           int64\n",
              "Walc           int64\n",
              "health         int64\n",
              "absences       int64\n",
              "G1             int64\n",
              "G2             int64\n",
              "G3             int64\n",
              "dtype: object"
            ]
          },
          "metadata": {
            "tags": []
          },
          "execution_count": 52
        }
      ]
    },
    {
      "cell_type": "code",
      "metadata": {
        "colab": {
          "base_uri": "https://localhost:8080/",
          "height": 297
        },
        "id": "6jrB6hcAIjCB",
        "outputId": "b4b7a77e-9739-4119-c178-6f22f5b643f3"
      },
      "source": [
        "stu_df.describe()"
      ],
      "execution_count": null,
      "outputs": [
        {
          "output_type": "execute_result",
          "data": {
            "text/html": [
              "<div>\n",
              "<style scoped>\n",
              "    .dataframe tbody tr th:only-of-type {\n",
              "        vertical-align: middle;\n",
              "    }\n",
              "\n",
              "    .dataframe tbody tr th {\n",
              "        vertical-align: top;\n",
              "    }\n",
              "\n",
              "    .dataframe thead th {\n",
              "        text-align: right;\n",
              "    }\n",
              "</style>\n",
              "<table border=\"1\" class=\"dataframe\">\n",
              "  <thead>\n",
              "    <tr style=\"text-align: right;\">\n",
              "      <th></th>\n",
              "      <th>age</th>\n",
              "      <th>Medu</th>\n",
              "      <th>Fedu</th>\n",
              "      <th>traveltime</th>\n",
              "      <th>studytime</th>\n",
              "      <th>failures</th>\n",
              "      <th>famrel</th>\n",
              "      <th>freetime</th>\n",
              "      <th>goout</th>\n",
              "      <th>Dalc</th>\n",
              "      <th>Walc</th>\n",
              "      <th>health</th>\n",
              "      <th>absences</th>\n",
              "      <th>G1</th>\n",
              "      <th>G2</th>\n",
              "      <th>G3</th>\n",
              "    </tr>\n",
              "  </thead>\n",
              "  <tbody>\n",
              "    <tr>\n",
              "      <th>count</th>\n",
              "      <td>395.000000</td>\n",
              "      <td>395.000000</td>\n",
              "      <td>395.000000</td>\n",
              "      <td>395.000000</td>\n",
              "      <td>395.000000</td>\n",
              "      <td>395.000000</td>\n",
              "      <td>395.000000</td>\n",
              "      <td>395.000000</td>\n",
              "      <td>395.000000</td>\n",
              "      <td>395.000000</td>\n",
              "      <td>395.000000</td>\n",
              "      <td>395.000000</td>\n",
              "      <td>395.000000</td>\n",
              "      <td>395.000000</td>\n",
              "      <td>395.000000</td>\n",
              "      <td>395.000000</td>\n",
              "    </tr>\n",
              "    <tr>\n",
              "      <th>mean</th>\n",
              "      <td>16.696203</td>\n",
              "      <td>2.749367</td>\n",
              "      <td>2.521519</td>\n",
              "      <td>1.448101</td>\n",
              "      <td>2.035443</td>\n",
              "      <td>0.334177</td>\n",
              "      <td>3.944304</td>\n",
              "      <td>3.235443</td>\n",
              "      <td>3.108861</td>\n",
              "      <td>1.481013</td>\n",
              "      <td>2.291139</td>\n",
              "      <td>3.554430</td>\n",
              "      <td>5.708861</td>\n",
              "      <td>10.908861</td>\n",
              "      <td>10.713924</td>\n",
              "      <td>10.415190</td>\n",
              "    </tr>\n",
              "    <tr>\n",
              "      <th>std</th>\n",
              "      <td>1.276043</td>\n",
              "      <td>1.094735</td>\n",
              "      <td>1.088201</td>\n",
              "      <td>0.697505</td>\n",
              "      <td>0.839240</td>\n",
              "      <td>0.743651</td>\n",
              "      <td>0.896659</td>\n",
              "      <td>0.998862</td>\n",
              "      <td>1.113278</td>\n",
              "      <td>0.890741</td>\n",
              "      <td>1.287897</td>\n",
              "      <td>1.390303</td>\n",
              "      <td>8.003096</td>\n",
              "      <td>3.319195</td>\n",
              "      <td>3.761505</td>\n",
              "      <td>4.581443</td>\n",
              "    </tr>\n",
              "    <tr>\n",
              "      <th>min</th>\n",
              "      <td>15.000000</td>\n",
              "      <td>0.000000</td>\n",
              "      <td>0.000000</td>\n",
              "      <td>1.000000</td>\n",
              "      <td>1.000000</td>\n",
              "      <td>0.000000</td>\n",
              "      <td>1.000000</td>\n",
              "      <td>1.000000</td>\n",
              "      <td>1.000000</td>\n",
              "      <td>1.000000</td>\n",
              "      <td>1.000000</td>\n",
              "      <td>1.000000</td>\n",
              "      <td>0.000000</td>\n",
              "      <td>3.000000</td>\n",
              "      <td>0.000000</td>\n",
              "      <td>0.000000</td>\n",
              "    </tr>\n",
              "    <tr>\n",
              "      <th>25%</th>\n",
              "      <td>16.000000</td>\n",
              "      <td>2.000000</td>\n",
              "      <td>2.000000</td>\n",
              "      <td>1.000000</td>\n",
              "      <td>1.000000</td>\n",
              "      <td>0.000000</td>\n",
              "      <td>4.000000</td>\n",
              "      <td>3.000000</td>\n",
              "      <td>2.000000</td>\n",
              "      <td>1.000000</td>\n",
              "      <td>1.000000</td>\n",
              "      <td>3.000000</td>\n",
              "      <td>0.000000</td>\n",
              "      <td>8.000000</td>\n",
              "      <td>9.000000</td>\n",
              "      <td>8.000000</td>\n",
              "    </tr>\n",
              "    <tr>\n",
              "      <th>50%</th>\n",
              "      <td>17.000000</td>\n",
              "      <td>3.000000</td>\n",
              "      <td>2.000000</td>\n",
              "      <td>1.000000</td>\n",
              "      <td>2.000000</td>\n",
              "      <td>0.000000</td>\n",
              "      <td>4.000000</td>\n",
              "      <td>3.000000</td>\n",
              "      <td>3.000000</td>\n",
              "      <td>1.000000</td>\n",
              "      <td>2.000000</td>\n",
              "      <td>4.000000</td>\n",
              "      <td>4.000000</td>\n",
              "      <td>11.000000</td>\n",
              "      <td>11.000000</td>\n",
              "      <td>11.000000</td>\n",
              "    </tr>\n",
              "    <tr>\n",
              "      <th>75%</th>\n",
              "      <td>18.000000</td>\n",
              "      <td>4.000000</td>\n",
              "      <td>3.000000</td>\n",
              "      <td>2.000000</td>\n",
              "      <td>2.000000</td>\n",
              "      <td>0.000000</td>\n",
              "      <td>5.000000</td>\n",
              "      <td>4.000000</td>\n",
              "      <td>4.000000</td>\n",
              "      <td>2.000000</td>\n",
              "      <td>3.000000</td>\n",
              "      <td>5.000000</td>\n",
              "      <td>8.000000</td>\n",
              "      <td>13.000000</td>\n",
              "      <td>13.000000</td>\n",
              "      <td>14.000000</td>\n",
              "    </tr>\n",
              "    <tr>\n",
              "      <th>max</th>\n",
              "      <td>22.000000</td>\n",
              "      <td>4.000000</td>\n",
              "      <td>4.000000</td>\n",
              "      <td>4.000000</td>\n",
              "      <td>4.000000</td>\n",
              "      <td>3.000000</td>\n",
              "      <td>5.000000</td>\n",
              "      <td>5.000000</td>\n",
              "      <td>5.000000</td>\n",
              "      <td>5.000000</td>\n",
              "      <td>5.000000</td>\n",
              "      <td>5.000000</td>\n",
              "      <td>75.000000</td>\n",
              "      <td>19.000000</td>\n",
              "      <td>19.000000</td>\n",
              "      <td>20.000000</td>\n",
              "    </tr>\n",
              "  </tbody>\n",
              "</table>\n",
              "</div>"
            ],
            "text/plain": [
              "              age        Medu        Fedu  ...          G1          G2          G3\n",
              "count  395.000000  395.000000  395.000000  ...  395.000000  395.000000  395.000000\n",
              "mean    16.696203    2.749367    2.521519  ...   10.908861   10.713924   10.415190\n",
              "std      1.276043    1.094735    1.088201  ...    3.319195    3.761505    4.581443\n",
              "min     15.000000    0.000000    0.000000  ...    3.000000    0.000000    0.000000\n",
              "25%     16.000000    2.000000    2.000000  ...    8.000000    9.000000    8.000000\n",
              "50%     17.000000    3.000000    2.000000  ...   11.000000   11.000000   11.000000\n",
              "75%     18.000000    4.000000    3.000000  ...   13.000000   13.000000   14.000000\n",
              "max     22.000000    4.000000    4.000000  ...   19.000000   19.000000   20.000000\n",
              "\n",
              "[8 rows x 16 columns]"
            ]
          },
          "metadata": {
            "tags": []
          },
          "execution_count": 53
        }
      ]
    },
    {
      "cell_type": "markdown",
      "metadata": {
        "id": "umDVqIY22UrU"
      },
      "source": [
        "**Q. Write a function to calculate min, max and mean / average of any column in a dataframe.**\n",
        "\n",
        "Criteria:\n",
        "\n",
        "*   The function should take the column name as argument and calculate for that column only\n",
        "*   Use a single loop to calculate min, max and average\n",
        "\n"
      ]
    },
    {
      "cell_type": "code",
      "metadata": {
        "id": "KHhgD9Fj2qfN"
      },
      "source": [
        "## Q. Write a function to calculate min, max and mean / average of any column in a dataframe.\n"
      ],
      "execution_count": null,
      "outputs": []
    },
    {
      "cell_type": "code",
      "metadata": {
        "colab": {
          "base_uri": "https://localhost:8080/"
        },
        "id": "hcJ3UAADIi2_",
        "outputId": "0bd90576-c4d1-417a-bbe9-65f650692c66"
      },
      "source": [
        "stu_df.info()"
      ],
      "execution_count": null,
      "outputs": [
        {
          "output_type": "stream",
          "text": [
            "<class 'pandas.core.frame.DataFrame'>\n",
            "RangeIndex: 395 entries, 0 to 394\n",
            "Data columns (total 33 columns):\n",
            " #   Column      Non-Null Count  Dtype \n",
            "---  ------      --------------  ----- \n",
            " 0   school      395 non-null    object\n",
            " 1   sex         395 non-null    object\n",
            " 2   age         395 non-null    int64 \n",
            " 3   address     395 non-null    object\n",
            " 4   famsize     395 non-null    object\n",
            " 5   Pstatus     395 non-null    object\n",
            " 6   Medu        395 non-null    int64 \n",
            " 7   Fedu        395 non-null    int64 \n",
            " 8   Mjob        395 non-null    object\n",
            " 9   Fjob        395 non-null    object\n",
            " 10  reason      395 non-null    object\n",
            " 11  guardian    395 non-null    object\n",
            " 12  traveltime  395 non-null    int64 \n",
            " 13  studytime   395 non-null    int64 \n",
            " 14  failures    395 non-null    int64 \n",
            " 15  schoolsup   395 non-null    object\n",
            " 16  famsup      395 non-null    object\n",
            " 17  paid        395 non-null    object\n",
            " 18  activities  395 non-null    object\n",
            " 19  nursery     395 non-null    object\n",
            " 20  higher      395 non-null    object\n",
            " 21  internet    395 non-null    object\n",
            " 22  romantic    395 non-null    object\n",
            " 23  famrel      395 non-null    int64 \n",
            " 24  freetime    395 non-null    int64 \n",
            " 25  goout       395 non-null    int64 \n",
            " 26  Dalc        395 non-null    int64 \n",
            " 27  Walc        395 non-null    int64 \n",
            " 28  health      395 non-null    int64 \n",
            " 29  absences    395 non-null    int64 \n",
            " 30  G1          395 non-null    int64 \n",
            " 31  G2          395 non-null    int64 \n",
            " 32  G3          395 non-null    int64 \n",
            "dtypes: int64(16), object(17)\n",
            "memory usage: 102.0+ KB\n"
          ],
          "name": "stdout"
        }
      ]
    },
    {
      "cell_type": "markdown",
      "metadata": {
        "id": "OT5u9C65_WIt"
      },
      "source": [
        "### Plotting"
      ]
    },
    {
      "cell_type": "code",
      "metadata": {
        "colab": {
          "base_uri": "https://localhost:8080/",
          "height": 279
        },
        "id": "sqdQxiL79Za-",
        "outputId": "eba47101-9175-42ea-916c-46dbfb510b9b"
      },
      "source": [
        "import matplotlib.pyplot as plt\n",
        "import seaborn as sns\n",
        "\n",
        "sns.countplot(x=\"studytime\",data=stu_df)\n",
        "\n",
        "plt.show()"
      ],
      "execution_count": null,
      "outputs": [
        {
          "output_type": "display_data",
          "data": {
            "image/png": "[encoded data removed]",
            "text/plain": [
              "<Figure size 432x288 with 1 Axes>"
            ]
          },
          "metadata": {
            "tags": [],
            "needs_background": "light"
          }
        }
      ]
    },
    {
      "cell_type": "code",
      "metadata": {
        "colab": {
          "base_uri": "https://localhost:8080/",
          "height": 320
        },
        "id": "yaBaQWt-8Zm4",
        "outputId": "100eb12a-82a8-430a-82ad-58ae23af39a4"
      },
      "source": [
        "stu_df.studytime.value_counts().plot.pie(figsize=(5, 5))"
      ],
      "execution_count": null,
      "outputs": [
        {
          "output_type": "execute_result",
          "data": {
            "text/plain": [
              "<matplotlib.axes._subplots.AxesSubplot at 0x7fa62bca2190>"
            ]
          },
          "metadata": {
            "tags": []
          },
          "execution_count": 37
        },
        {
          "output_type": "display_data",
          "data": {
            "image/png": "[encoded data removed]",
            "text/plain": [
              "<Figure size 360x360 with 1 Axes>"
            ]
          },
          "metadata": {
            "tags": []
          }
        }
      ]
    },
    {
      "cell_type": "markdown",
      "metadata": {
        "id": "sQ6W2_QXI2Pg"
      },
      "source": [
        "For below part we will use [garment worker's productivity dataset](https://archive-beta.ics.uci.edu/ml/datasets/597).\n",
        "\n",
        "**Abstract:** This dataset includes important attributes of the garment manufacturing process and the productivity of the employees which had been collected manually and also been validated by the industry experts.\n",
        "\n",
        "Download and / or load this file using pandas library: [productivity of garments worker data](https://archive.ics.uci.edu/ml/machine-learning-databases/00597/garments_worker_productivity.csv)"
      ]
    },
    {
      "cell_type": "code",
      "metadata": {
        "colab": {
          "base_uri": "https://localhost:8080/",
          "height": 162
        },
        "id": "gGsNHsltHpBF",
        "outputId": "cee62772-6103-418f-e86f-7e21f6ac6451"
      },
      "source": [
        "gwp_df = pd.read_csv('https://archive.ics.uci.edu/ml/machine-learning-databases/00597/garments_worker_productivity.csv', sep=',')\n",
        "gwp_df.head(3)"
      ],
      "execution_count": null,
      "outputs": [
        {
          "output_type": "execute_result",
          "data": {
            "text/html": [
              "<div>\n",
              "<style scoped>\n",
              "    .dataframe tbody tr th:only-of-type {\n",
              "        vertical-align: middle;\n",
              "    }\n",
              "\n",
              "    .dataframe tbody tr th {\n",
              "        vertical-align: top;\n",
              "    }\n",
              "\n",
              "    .dataframe thead th {\n",
              "        text-align: right;\n",
              "    }\n",
              "</style>\n",
              "<table border=\"1\" class=\"dataframe\">\n",
              "  <thead>\n",
              "    <tr style=\"text-align: right;\">\n",
              "      <th></th>\n",
              "      <th>date</th>\n",
              "      <th>quarter</th>\n",
              "      <th>department</th>\n",
              "      <th>day</th>\n",
              "      <th>team</th>\n",
              "      <th>targeted_productivity</th>\n",
              "      <th>smv</th>\n",
              "      <th>wip</th>\n",
              "      <th>over_time</th>\n",
              "      <th>incentive</th>\n",
              "      <th>idle_time</th>\n",
              "      <th>idle_men</th>\n",
              "      <th>no_of_style_change</th>\n",
              "      <th>no_of_workers</th>\n",
              "      <th>actual_productivity</th>\n",
              "    </tr>\n",
              "  </thead>\n",
              "  <tbody>\n",
              "    <tr>\n",
              "      <th>0</th>\n",
              "      <td>1/1/2015</td>\n",
              "      <td>Quarter1</td>\n",
              "      <td>sweing</td>\n",
              "      <td>Thursday</td>\n",
              "      <td>8</td>\n",
              "      <td>0.80</td>\n",
              "      <td>26.16</td>\n",
              "      <td>1108.0</td>\n",
              "      <td>7080</td>\n",
              "      <td>98</td>\n",
              "      <td>0.0</td>\n",
              "      <td>0</td>\n",
              "      <td>0</td>\n",
              "      <td>59.0</td>\n",
              "      <td>0.940725</td>\n",
              "    </tr>\n",
              "    <tr>\n",
              "      <th>1</th>\n",
              "      <td>1/1/2015</td>\n",
              "      <td>Quarter1</td>\n",
              "      <td>finishing</td>\n",
              "      <td>Thursday</td>\n",
              "      <td>1</td>\n",
              "      <td>0.75</td>\n",
              "      <td>3.94</td>\n",
              "      <td>NaN</td>\n",
              "      <td>960</td>\n",
              "      <td>0</td>\n",
              "      <td>0.0</td>\n",
              "      <td>0</td>\n",
              "      <td>0</td>\n",
              "      <td>8.0</td>\n",
              "      <td>0.886500</td>\n",
              "    </tr>\n",
              "    <tr>\n",
              "      <th>2</th>\n",
              "      <td>1/1/2015</td>\n",
              "      <td>Quarter1</td>\n",
              "      <td>sweing</td>\n",
              "      <td>Thursday</td>\n",
              "      <td>11</td>\n",
              "      <td>0.80</td>\n",
              "      <td>11.41</td>\n",
              "      <td>968.0</td>\n",
              "      <td>3660</td>\n",
              "      <td>50</td>\n",
              "      <td>0.0</td>\n",
              "      <td>0</td>\n",
              "      <td>0</td>\n",
              "      <td>30.5</td>\n",
              "      <td>0.800570</td>\n",
              "    </tr>\n",
              "  </tbody>\n",
              "</table>\n",
              "</div>"
            ],
            "text/plain": [
              "       date   quarter  ... no_of_workers actual_productivity\n",
              "0  1/1/2015  Quarter1  ...          59.0            0.940725\n",
              "1  1/1/2015  Quarter1  ...           8.0            0.886500\n",
              "2  1/1/2015  Quarter1  ...          30.5            0.800570\n",
              "\n",
              "[3 rows x 15 columns]"
            ]
          },
          "metadata": {
            "tags": []
          },
          "execution_count": 56
        }
      ]
    },
    {
      "cell_type": "markdown",
      "metadata": {
        "id": "wJ2lzxAT90M8"
      },
      "source": [
        "**Q. Create bar and pie charts for any of the column on this dataset.**"
      ]
    },
    {
      "cell_type": "code",
      "metadata": {
        "id": "0ohhORNp-EdK"
      },
      "source": [
        "## Q. Create bar and pie charts for any of the column on this dataset."
      ],
      "execution_count": null,
      "outputs": []
    },
    {
      "cell_type": "code",
      "metadata": {
        "colab": {
          "base_uri": "https://localhost:8080/",
          "height": 279
        },
        "id": "rt3Gv1_a9eS3",
        "outputId": "7dfe110a-8297-4ee6-ed12-e456671327d5"
      },
      "source": [
        "plt.scatter(x = gwp_df[\"incentive\"] , y = gwp_df[\"actual_productivity\"])\n",
        "plt.xlabel(\"incentive\")\n",
        "plt.ylabel(\"relation\")\n",
        "plt.show()"
      ],
      "execution_count": null,
      "outputs": [
        {
          "output_type": "display_data",
          "data": {
            "image/png": "[encoded data removed]",
            "text/plain": [
              "<Figure size 432x288 with 1 Axes>"
            ]
          },
          "metadata": {
            "tags": [],
            "needs_background": "light"
          }
        }
      ]
    },
    {
      "cell_type": "code",
      "metadata": {
        "colab": {
          "base_uri": "https://localhost:8080/",
          "height": 299
        },
        "id": "p4sP2cyj9h_8",
        "outputId": "b02ca469-3050-4b65-ed7b-424687691439"
      },
      "source": [
        "counts, bins = np.histogram(gwp_df[\"actual_productivity\"])\n",
        "print(counts, bins)\n",
        "plt.hist(bins[:-1], bins, weights=counts)\n",
        "plt.show()"
      ],
      "execution_count": null,
      "outputs": [
        {
          "output_type": "stream",
          "text": [
            "[ 34  59  38  74 137 250 340 151 104  10] [0.23370548 0.32237868 0.41105188 0.49972508 0.58839829 0.67707149\n",
            " 0.76574469 0.85441789 0.9430911  1.0317643  1.1204375 ]\n"
          ],
          "name": "stdout"
        },
        {
          "output_type": "display_data",
          "data": {
            "image/png": "[encoded data removed]",
            "text/plain": [
              "<Figure size 432x288 with 1 Axes>"
            ]
          },
          "metadata": {
            "tags": [],
            "needs_background": "light"
          }
        }
      ]
    },
    {
      "cell_type": "markdown",
      "metadata": {
        "id": "1jCsvktHMtUU"
      },
      "source": [
        "Q6. Plot the relationship between `absences` and `G1` from student dataset:"
      ]
    },
    {
      "cell_type": "code",
      "metadata": {
        "id": "hmQQQKSRM32-"
      },
      "source": [
        "## Q6. Plot the relationship between `absences` and `G1` from student dataset:"
      ],
      "execution_count": null,
      "outputs": []
    }
  ]
}